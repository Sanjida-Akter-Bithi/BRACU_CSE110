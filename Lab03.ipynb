{
  "nbformat": 4,
  "nbformat_minor": 0,
  "metadata": {
    "colab": {
      "provenance": [],
      "authorship_tag": "ABX9TyN7nWgyk3khbNWaNM5Ab8Bj",
      "include_colab_link": true
    },
    "kernelspec": {
      "name": "python3",
      "display_name": "Python 3"
    },
    "language_info": {
      "name": "python"
    }
  },
  "cells": [
    {
      "cell_type": "markdown",
      "metadata": {
        "id": "view-in-github",
        "colab_type": "text"
      },
      "source": [
        "<a href=\"https://colab.research.google.com/github/Sanjida-Akter-Bithi/BRACU_CSE110/blob/main/Lab03.ipynb\" target=\"_parent\"><img src=\"https://colab.research.google.com/assets/colab-badge.svg\" alt=\"Open In Colab\"/></a>"
      ]
    },
    {
      "cell_type": "code",
      "execution_count": null,
      "metadata": {
        "colab": {
          "base_uri": "https://localhost:8080/"
        },
        "id": "p_GaTPH8aI1o",
        "outputId": "4617e14c-9490-4be7-8092-d85e76093625"
      },
      "outputs": [
        {
          "output_type": "stream",
          "name": "stdout",
          "text": [
            "18,27,36,45,54,63\n"
          ]
        }
      ],
      "source": [
        "#task 1 c\n",
        "a=18\n",
        "while a<= 63:\n",
        "  if a>63:\n",
        "    break\n",
        "  if a==63:\n",
        "    print(a)\n",
        "  else:\n",
        "    print(a,end=(\",\"))\n",
        "  a+=9"
      ]
    },
    {
      "cell_type": "code",
      "source": [
        "#task 1-d\n",
        "\"\"\"a=18\n",
        "while a<= 63:\n",
        "  if a>63:\n",
        "    break\n",
        "\n",
        "  if a==63:\n",
        "    print(a)\n",
        "  else:\n",
        "    print(a,end=(\",\"))\n",
        "  a+=9\"\"\"\n",
        "\n",
        "for i in range(18,64,9):\n",
        "  if i==63:\n",
        "    print(-i,end=\"\")\n",
        "  elif i%2!=0:\n",
        "    print(-i,end=(\",\"))\n",
        "\n",
        "  else:\n",
        "    print(i,end=\",\")"
      ],
      "metadata": {
        "colab": {
          "base_uri": "https://localhost:8080/"
        },
        "id": "7AMAXn_gcC4g",
        "outputId": "56a80bec-ed52-42bf-8db0-dee932edf0e6"
      },
      "execution_count": null,
      "outputs": [
        {
          "output_type": "stream",
          "name": "stdout",
          "text": [
            "18,-27,36,-45,54,-63"
          ]
        }
      ]
    },
    {
      "cell_type": "code",
      "source": [
        "#Task 2\n",
        "a=input()\n",
        "b=int(input())\n",
        "for i in range(b):\n",
        "  print(a)"
      ],
      "metadata": {
        "colab": {
          "base_uri": "https://localhost:8080/"
        },
        "id": "TPJcGC0veU0G",
        "outputId": "8014af31-890e-42a8-ac36-db0c4007b62e"
      },
      "execution_count": null,
      "outputs": [
        {
          "output_type": "stream",
          "name": "stdout",
          "text": [
            "toyota\n",
            "2\n",
            "toyota\n",
            "toyota\n"
          ]
        }
      ]
    },
    {
      "cell_type": "code",
      "source": [
        "#Task 3\n",
        "sum=0\n",
        "for i in range (601):\n",
        "  if i%7==0 and i%9==0 :\n",
        "    sum=sum+i\n",
        "print(sum)"
      ],
      "metadata": {
        "colab": {
          "base_uri": "https://localhost:8080/"
        },
        "id": "bo7rCL3ggbiF",
        "outputId": "8ace2df0-9f4d-454d-eaf6-c9d51f96c0b8"
      },
      "execution_count": null,
      "outputs": [
        {
          "output_type": "stream",
          "name": "stdout",
          "text": [
            "2835\n"
          ]
        }
      ]
    },
    {
      "cell_type": "code",
      "source": [
        "#task 4\n",
        "sum=0\n",
        "for i in range(601):\n",
        "  if i%7==0 and i%9==0 :\n",
        "    pass\n",
        "  elif i%7==0 or i%9==0:\n",
        "    sum=sum+i\n",
        "print(sum)\n"
      ],
      "metadata": {
        "colab": {
          "base_uri": "https://localhost:8080/"
        },
        "id": "BJysj4gaduDa",
        "outputId": "e2b5cd8c-1124-4820-be3e-a4c4e82ee452"
      },
      "execution_count": null,
      "outputs": [
        {
          "output_type": "stream",
          "name": "stdout",
          "text": [
            "39814\n"
          ]
        }
      ]
    },
    {
      "cell_type": "code",
      "source": [
        "#Task 6\n",
        "n=int(input())\n",
        "sum=0\n",
        "for i in range(n+1):\n",
        "  if i%2!=0:\n",
        "    sum=sum+ i*i\n",
        "  else:\n",
        "    sum+= i*i*(-1)\n",
        "print(sum)"
      ],
      "metadata": {
        "colab": {
          "base_uri": "https://localhost:8080/"
        },
        "id": "T_dDyv5lhRIO",
        "outputId": "ad6e20ea-d210-421e-ecf8-ead28b3c2a5a"
      },
      "execution_count": null,
      "outputs": [
        {
          "output_type": "stream",
          "name": "stdout",
          "text": [
            "10\n",
            "-55\n"
          ]
        }
      ]
    },
    {
      "cell_type": "code",
      "source": [
        "#task 7\n",
        "odd=0\n",
        "count=0\n",
        "for i in range(1,11):\n",
        "  a=int(input())\n",
        "  if(a%2!=0):\n",
        "    count+=1\n",
        "    odd+=a\n",
        "print(\"The Total of the Odd num is =\",odd,\"and their avarage is =\", odd/count)"
      ],
      "metadata": {
        "colab": {
          "base_uri": "https://localhost:8080/"
        },
        "id": "PdVPXLmDjZop",
        "outputId": "3f9aebe2-7e83-431d-8c2e-317b3e2f7c17"
      },
      "execution_count": null,
      "outputs": [
        {
          "output_type": "stream",
          "name": "stdout",
          "text": [
            "1\n",
            "2\n",
            "3\n",
            "4\n",
            "5\n",
            "6\n",
            "7\n",
            "8\n",
            "9\n",
            "10\n",
            "The Total of the Odd num is = 25 and their avarage is = 5.0\n"
          ]
        }
      ]
    },
    {
      "cell_type": "code",
      "source": [
        "#task 8\n",
        "n=int(input())\n",
        "sum=0\n",
        "for i in range(n+1):\n",
        "  if i%7==0:\n",
        "    sum+=i\n",
        "print(sum)\n"
      ],
      "metadata": {
        "colab": {
          "base_uri": "https://localhost:8080/"
        },
        "id": "vt_bW_lxlFyv",
        "outputId": "53d1820d-a752-4765-d707-9d1fbbb2689c"
      },
      "execution_count": null,
      "outputs": [
        {
          "output_type": "stream",
          "name": "stdout",
          "text": [
            "50\n",
            "196\n"
          ]
        }
      ]
    },
    {
      "cell_type": "code",
      "source": [
        "#Task 9\n",
        "sum=0\n",
        "for i in range(5):\n",
        "  n=int(input(\"enter a number: \"))\n",
        "  sum+=n\n",
        "  print(sum)\n"
      ],
      "metadata": {
        "colab": {
          "base_uri": "https://localhost:8080/"
        },
        "id": "t_pr3UpPnBYc",
        "outputId": "73730038-0fda-40c5-d8ec-1b571ccc0232"
      },
      "execution_count": null,
      "outputs": [
        {
          "output_type": "stream",
          "name": "stdout",
          "text": [
            "enter a number: 1\n",
            "1\n",
            "enter a number: 2\n",
            "3\n",
            "enter a number: 3\n",
            "6\n",
            "enter a number: 4\n",
            "10\n",
            "enter a number: 5\n",
            "15\n"
          ]
        }
      ]
    },
    {
      "cell_type": "code",
      "source": [
        "#task 10\n",
        "a=int(input())\n",
        "while a>0:\n",
        "  if a<10:\n",
        "    print(a)\n",
        "  else:\n",
        "    print(a%10,end=\",\")\n",
        "  a=a//10"
      ],
      "metadata": {
        "colab": {
          "base_uri": "https://localhost:8080/"
        },
        "id": "CkzbJP8QoRfd",
        "outputId": "cdcae207-0c69-46cb-9d69-b1d0f65513f8"
      },
      "execution_count": null,
      "outputs": [
        {
          "output_type": "stream",
          "name": "stdout",
          "text": [
            "32768\n",
            "8,6,7,2,3\n"
          ]
        }
      ]
    },
    {
      "cell_type": "code",
      "source": [
        "#task 11\n",
        "n=int(input())\n",
        "count=0\n",
        "while n>0:\n",
        "  n=n//10\n",
        "  count+=1\n",
        "print(count)"
      ],
      "metadata": {
        "colab": {
          "base_uri": "https://localhost:8080/"
        },
        "id": "C1_QVtO8t-A_",
        "outputId": "97f79ad1-569f-4229-c629-efcd79a4f598"
      },
      "execution_count": null,
      "outputs": [
        {
          "output_type": "stream",
          "name": "stdout",
          "text": [
            "9876\n",
            "4\n"
          ]
        }
      ]
    },
    {
      "cell_type": "code",
      "source": [
        "#task 19\n",
        "a=int(input(\"\"))\n",
        "for i in range(1,a+1):\n",
        "  for j in range (1,i+1):\n",
        "    print(j,end=\"\")\n",
        "  print()\n"
      ],
      "metadata": {
        "colab": {
          "base_uri": "https://localhost:8080/"
        },
        "id": "6VV-8NODvaAs",
        "outputId": "c0454b52-2126-4e68-cc38-1feeca564127"
      },
      "execution_count": null,
      "outputs": [
        {
          "output_type": "stream",
          "name": "stdout",
          "text": [
            "5\n",
            "1\n",
            "12\n",
            "123\n",
            "1234\n",
            "12345\n"
          ]
        }
      ]
    }
  ]
}