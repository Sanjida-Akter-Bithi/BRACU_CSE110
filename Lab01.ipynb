{
  "nbformat": 4,
  "nbformat_minor": 0,
  "metadata": {
    "colab": {
      "provenance": [],
      "include_colab_link": true
    },
    "kernelspec": {
      "name": "python3",
      "display_name": "Python 3"
    },
    "language_info": {
      "name": "python"
    }
  },
  "cells": [
    {
      "cell_type": "markdown",
      "metadata": {
        "id": "view-in-github",
        "colab_type": "text"
      },
      "source": [
        "<a href=\"https://colab.research.google.com/github/Sanjida-Akter-Bithi/BRACU_CSE110/blob/main/Lab01.ipynb\" target=\"_parent\"><img src=\"https://colab.research.google.com/assets/colab-badge.svg\" alt=\"Open In Colab\"/></a>"
      ]
    },
    {
      "cell_type": "code",
      "execution_count": null,
      "metadata": {
        "colab": {
          "base_uri": "https://localhost:8080/"
        },
        "id": "jeIahZ_f1KCs",
        "outputId": "6c1701ae-a9ed-4214-c194-5055a1caa778"
      },
      "outputs": [
        {
          "output_type": "stream",
          "name": "stdout",
          "text": [
            "hello world\n"
          ]
        }
      ],
      "source": [
        "#Task01\n",
        "print(\"hello world\")"
      ]
    },
    {
      "cell_type": "code",
      "source": [
        "#Task02\n",
        "print(54+56)"
      ],
      "metadata": {
        "colab": {
          "base_uri": "https://localhost:8080/"
        },
        "id": "WtW0lofR1NlM",
        "outputId": "6214fd2a-e6c1-46c0-b24b-331646256f2d"
      },
      "execution_count": null,
      "outputs": [
        {
          "output_type": "stream",
          "name": "stdout",
          "text": [
            "110\n"
          ]
        }
      ]
    },
    {
      "cell_type": "code",
      "source": [
        "#Task03\n",
        "season=\"Fall\"\n",
        "year=2022\n",
        "print(season)\n",
        "print(year)"
      ],
      "metadata": {
        "colab": {
          "base_uri": "https://localhost:8080/"
        },
        "id": "s1EQJOYc180N",
        "outputId": "831e2616-5870-43fb-ab46-ee8386aae3f4"
      },
      "execution_count": null,
      "outputs": [
        {
          "output_type": "stream",
          "name": "stdout",
          "text": [
            "Fall\n",
            "2022\n"
          ]
        }
      ]
    },
    {
      "cell_type": "code",
      "source": [
        "#Task04\n",
        "a=input()\n",
        "print(\"Your name is\",a)"
      ],
      "metadata": {
        "colab": {
          "base_uri": "https://localhost:8080/"
        },
        "id": "p07dR_aC2pi8",
        "outputId": "d621abeb-bf96-4c5e-bb23-4672e056a256"
      },
      "execution_count": null,
      "outputs": [
        {
          "output_type": "stream",
          "name": "stdout",
          "text": [
            "John\n",
            "Your name is John\n"
          ]
        }
      ]
    },
    {
      "cell_type": "code",
      "source": [
        "#Task05\n",
        "M=int(input())\n",
        "N=int(input())\n",
        "O=M**N\n",
        "print(str(M)+\"^\"+str(N)+\":\",O)"
      ],
      "metadata": {
        "colab": {
          "base_uri": "https://localhost:8080/"
        },
        "id": "1gwBMQcx2820",
        "outputId": "c7cd0ae9-6a29-4293-af85-0430eaa00621"
      },
      "execution_count": null,
      "outputs": [
        {
          "output_type": "stream",
          "name": "stdout",
          "text": [
            "2\n",
            "3\n",
            "2^3: 8\n"
          ]
        }
      ]
    },
    {
      "cell_type": "code",
      "source": [
        "#Task06\n",
        "Number=int(input())\n",
        "Number2=Number-(Number%4)\n",
        "print(Number2)"
      ],
      "metadata": {
        "colab": {
          "base_uri": "https://localhost:8080/"
        },
        "id": "qe5TwO8o4JP8",
        "outputId": "39a6ad8b-b394-40d9-f08c-8ea2ce551f7e"
      },
      "execution_count": null,
      "outputs": [
        {
          "output_type": "stream",
          "name": "stdout",
          "text": [
            "9\n",
            "8\n"
          ]
        }
      ]
    },
    {
      "cell_type": "code",
      "source": [
        "#Task07\n",
        "A=int(input(\"Enter the first integer number,A: \"))\n",
        "B=int(input(\"Enter the second integer number,B: \"))\n",
        "C=int(input(\"Enter the third integer number,C: \"))\n",
        "D=float(input(\"Enter a float number,D: \"))\n",
        "Answer=int(A**C+B*A-D/3)\n",
        "print(Answer)"
      ],
      "metadata": {
        "colab": {
          "base_uri": "https://localhost:8080/"
        },
        "id": "QLskpsD94SPU",
        "outputId": "5028b07a-7ade-4560-cd87-f7ea811b0a46"
      },
      "execution_count": null,
      "outputs": [
        {
          "output_type": "stream",
          "name": "stdout",
          "text": [
            "Enter the first integer number,A: 2\n",
            "Enter the second integer number,B: 6\n",
            "Enter the third integer number,C: 8\n",
            "Enter a float number,D: 1.3\n",
            "267\n"
          ]
        }
      ]
    },
    {
      "cell_type": "code",
      "source": [
        "#Task08\n",
        "X=int(input(\"enter chocolate numbers: \"))\n",
        "Y=X/3\n",
        "R=X%3\n",
        "Y2=int(Y)\n",
        "print(\"Each friend will receive:\", Y2)\n",
        "print(\"The number of remainig chocolates is:\", R)"
      ],
      "metadata": {
        "colab": {
          "base_uri": "https://localhost:8080/"
        },
        "id": "y7PCQCkE58mM",
        "outputId": "bc3d7c8a-f17f-4d52-e0b5-72df97ff14b6"
      },
      "execution_count": null,
      "outputs": [
        {
          "output_type": "stream",
          "name": "stdout",
          "text": [
            "enter chocolate numbers: 50\n",
            "Each friend will receive: 16\n",
            "The number of remainig chocolates is: 2\n"
          ]
        }
      ]
    },
    {
      "cell_type": "code",
      "source": [
        "#Task09\n",
        "M = input(\"Enter something: \")\n",
        "N = input(\"Enter something: \")\n",
        "print(N+M)"
      ],
      "metadata": {
        "colab": {
          "base_uri": "https://localhost:8080/"
        },
        "id": "jotLonwl8Luc",
        "outputId": "5e15dd89-4f91-4ecc-ac0c-02b51f4c49e1"
      },
      "execution_count": null,
      "outputs": [
        {
          "output_type": "stream",
          "name": "stdout",
          "text": [
            "Enter something: Hello\n",
            "Enter something: World\n",
            "WorldHello\n"
          ]
        }
      ]
    },
    {
      "cell_type": "code",
      "source": [
        "#Task10\n",
        "A = input(\"enter a text: \")\n",
        "print(A[0])"
      ],
      "metadata": {
        "colab": {
          "base_uri": "https://localhost:8080/"
        },
        "id": "6WBnAnse8nOD",
        "outputId": "f1b36a01-b609-4375-eea4-46a4c5fb2214"
      },
      "execution_count": null,
      "outputs": [
        {
          "output_type": "stream",
          "name": "stdout",
          "text": [
            "enter a text: The quick brown fox jumps over the lazy dog\n",
            "T\n"
          ]
        }
      ]
    },
    {
      "cell_type": "code",
      "source": [
        "#Task11\n",
        "A = int(input(\"enter a number: \"))\n",
        "if A % 2 == 0:\n",
        "    print(\"True\")\n",
        "else:\n",
        "    print(\"False\")"
      ],
      "metadata": {
        "colab": {
          "base_uri": "https://localhost:8080/"
        },
        "id": "YeM_tzyd9HZ7",
        "outputId": "f873a6fd-a382-4aa0-f922-10680071c780"
      },
      "execution_count": null,
      "outputs": [
        {
          "output_type": "stream",
          "name": "stdout",
          "text": [
            "enter a number: -26\n",
            "True\n"
          ]
        }
      ]
    }
  ]
}