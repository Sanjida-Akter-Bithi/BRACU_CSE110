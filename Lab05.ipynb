{
  "nbformat": 4,
  "nbformat_minor": 0,
  "metadata": {
    "colab": {
      "provenance": [],
      "authorship_tag": "ABX9TyNqzsC0LJpGEWIGXw/m0Qfa",
      "include_colab_link": true
    },
    "kernelspec": {
      "name": "python3",
      "display_name": "Python 3"
    },
    "language_info": {
      "name": "python"
    }
  },
  "cells": [
    {
      "cell_type": "markdown",
      "metadata": {
        "id": "view-in-github",
        "colab_type": "text"
      },
      "source": [
        "<a href=\"https://colab.research.google.com/github/Sanjida-Akter-Bithi/BRACU_CSE110/blob/main/Lab05.ipynb\" target=\"_parent\"><img src=\"https://colab.research.google.com/assets/colab-badge.svg\" alt=\"Open In Colab\"/></a>"
      ]
    },
    {
      "cell_type": "code",
      "execution_count": null,
      "metadata": {
        "id": "wsn623-HIfhp",
        "colab": {
          "base_uri": "https://localhost:8080/"
        },
        "outputId": "3bd4a79a-f436-40ef-8973-05a800750846"
      },
      "outputs": [
        {
          "output_type": "stream",
          "name": "stdout",
          "text": [
            "3\n",
            "Numbers in the list:[3]\n",
            "5\n",
            "Numbers in the list:[3, 5]\n",
            "34\n",
            "Numbers in the list:[3, 5, 34]\n",
            "-11\n",
            "Numbers in the list:[3, 5, 34, -11]\n",
            "0\n",
            "Numbers in the list:[3, 5, 34, -11, 0]\n"
          ]
        }
      ],
      "source": [
        "#Task 1\n",
        "a=[]\n",
        "for i in range(5):\n",
        "  b=int(input())\n",
        "  a+=[b]\n",
        "  print(f\"Numbers in the list:{a}\")\n"
      ]
    },
    {
      "cell_type": "code",
      "source": [
        "#Task 2\n",
        "x=input()\n",
        "a=x.split(\",\")\n",
        "for i in range(len(a)):\n",
        "  a[i]=int(a[i])\n",
        "if(len(a)>=4):\n",
        "  print(a[2:-2:])\n",
        "else:\n",
        "  print(\"Not possible\")"
      ],
      "metadata": {
        "colab": {
          "base_uri": "https://localhost:8080/"
        },
        "id": "D5P7AaJ1nuqR",
        "outputId": "cd4717ea-e2dc-49de-f785-c13a397f8132"
      },
      "execution_count": null,
      "outputs": [
        {
          "output_type": "stream",
          "name": "stdout",
          "text": [
            "10, 20, 24, 25\n",
            "[]\n"
          ]
        }
      ]
    },
    {
      "cell_type": "code",
      "source": [
        "#Task 2\n",
        "x=input()\n",
        "x+=\",\"\n",
        "a=[]\n",
        "b=\"\"\n",
        "for i in x:\n",
        "  if i !=\" \":\n",
        "    if i!=\",\":\n",
        "      b+=i\n",
        "    else:\n",
        "      a+=[int(b)]\n",
        "      b=\"\"\n",
        "\n",
        "if(len(a)>3):\n",
        "  print(a[2:-2])\n",
        "else:\n",
        "  print(\"Not possible\")\n",
        "\n"
      ],
      "metadata": {
        "colab": {
          "base_uri": "https://localhost:8080/"
        },
        "id": "M79CGpw_sLq4",
        "outputId": "c59f51fd-9358-4bcf-95c1-fbb002071368"
      },
      "execution_count": null,
      "outputs": [
        {
          "output_type": "stream",
          "name": "stdout",
          "text": [
            "10, 20, 24, 25\n",
            "[]\n"
          ]
        }
      ]
    },
    {
      "cell_type": "code",
      "source": [
        "#Task 3\n",
        "a=[]\n",
        "for i in range(5):\n",
        "  b=int(input())\n",
        "  a+=[b]\n",
        "c=a[-1::-1]\n",
        "print(\"Printing values from the list in reverse order:\")\n",
        "for i in c:\n",
        "  print(i)"
      ],
      "metadata": {
        "colab": {
          "base_uri": "https://localhost:8080/"
        },
        "id": "G2DONF3AxXkb",
        "outputId": "9f34f39f-20c9-4e7a-9fcb-381360addd42"
      },
      "execution_count": null,
      "outputs": [
        {
          "output_type": "stream",
          "name": "stdout",
          "text": [
            "5\n",
            "-5\n",
            "100\n",
            "1\n",
            "0\n",
            "Printing values from the list in reverse order:\n",
            "0\n",
            "1\n",
            "100\n",
            "-5\n",
            "5\n"
          ]
        }
      ]
    },
    {
      "cell_type": "code",
      "source": [
        "#Task 4\n",
        "a=[1, 2, 3, 4, 5, 6, 7]\n",
        "b=[]\n",
        "for i in a:\n",
        "  b+=[i**2]\n",
        "print(b)"
      ],
      "metadata": {
        "colab": {
          "base_uri": "https://localhost:8080/"
        },
        "id": "GBPoPx8pzqKW",
        "outputId": "0956fe81-c77a-421a-c2d1-56f705581b52"
      },
      "execution_count": null,
      "outputs": [
        {
          "output_type": "stream",
          "name": "stdout",
          "text": [
            "[1, 4, 9, 16, 25, 36, 49]\n"
          ]
        }
      ]
    },
    {
      "cell_type": "code",
      "source": [
        "#Task 5\n",
        "a=[\"hey\", \"there\", \"\", \"what's\", \"\", \"up\", \"\", \"?\"]\n",
        "b=[]\n",
        "for i in a:\n",
        "  if i==\"\":\n",
        "    pass\n",
        "  else:\n",
        "    b+=[i]\n",
        "print(b)"
      ],
      "metadata": {
        "colab": {
          "base_uri": "https://localhost:8080/"
        },
        "id": "jxQZ7c9I1PyX",
        "outputId": "002e4531-bcae-4cbb-b3a7-c72d682876c3"
      },
      "execution_count": null,
      "outputs": [
        {
          "output_type": "stream",
          "name": "stdout",
          "text": [
            "['hey', 'there', \"what's\", 'up', '?']\n"
          ]
        }
      ]
    },
    {
      "cell_type": "code",
      "source": [
        "#Task 6\n",
        "a = input()\n",
        "a+=\",\"\n",
        "b=\"\"\n",
        "c = []\n",
        "\n",
        "for i in a:\n",
        "  if i!=\",\":\n",
        "    b+=i\n",
        "  else:\n",
        "    c+=[int(b)]\n",
        "    b=\"\"\n",
        "\n",
        "largest = c[0]\n",
        "indx = 0\n",
        "\n",
        "for i in range(len(c)):\n",
        "  if c[i] > largest:\n",
        "    largest = c[i]\n",
        "    indx = i\n",
        "\n",
        "print(f\"My list: {c}\")\n",
        "print(f\"Largest number in the list is {largest} which was found at index {indx}.\")"
      ],
      "metadata": {
        "colab": {
          "base_uri": "https://localhost:8080/"
        },
        "id": "EHRrtrXO16Yv",
        "outputId": "a33df91c-32eb-4933-94f1-69b6ca2cd10f"
      },
      "execution_count": null,
      "outputs": [
        {
          "output_type": "stream",
          "name": "stdout",
          "text": [
            "7,13,2,10,6,-11,0\n",
            "My list: [7, 13, 2, 10, 6, -11, 0]\n",
            "Largest number in the list is 13 which was found at index 1.\n"
          ]
        }
      ]
    },
    {
      "cell_type": "code",
      "source": [
        "#Task 7\n",
        "List_one = [1, 4, 7, 5]\n",
        "List_two = [6, 1, 3, 9]\n",
        "\n",
        "List_one[-1:] = List_two\n",
        "\n",
        "print(List_one)"
      ],
      "metadata": {
        "colab": {
          "base_uri": "https://localhost:8080/"
        },
        "id": "2LP-5-umSeIr",
        "outputId": "c9bf42d1-f550-402e-a6d7-8c1ef0078855"
      },
      "execution_count": null,
      "outputs": [
        {
          "output_type": "stream",
          "name": "stdout",
          "text": [
            "[1, 4, 7, 6, 1, 3, 9]\n"
          ]
        }
      ]
    },
    {
      "cell_type": "code",
      "source": [
        "#task 8\n",
        "list_one = [1, 2, 3, 4, 5, 6, 7, 8, 9]\n",
        "list_two = [10, 11, 12, -13, -14, -15, -16]\n",
        "new_list = []\n",
        "\n",
        "for count in range(0,len(list_one)):\n",
        "  if list_one[count] % 2 == 0:\n",
        "    new_list.append(list_one[count])\n",
        "\n",
        "for count in range(0,len(list_two)):\n",
        "  if list_two[count] % 2 == 0:\n",
        "    new_list.append(list_two[count])\n",
        "\n",
        "print(new_list)"
      ],
      "metadata": {
        "id": "2qDZANucShI0",
        "outputId": "a30b101e-dd0c-4287-d9dc-65bc5c31118b",
        "colab": {
          "base_uri": "https://localhost:8080/"
        }
      },
      "execution_count": null,
      "outputs": [
        {
          "output_type": "stream",
          "name": "stdout",
          "text": [
            "[2, 4, 6, 8, 10, 12, -14, -16]\n"
          ]
        }
      ]
    },
    {
      "cell_type": "code",
      "source": [
        "#Task 9\n",
        "a = input()\n",
        "a+=\" \"\n",
        "b=\"\"\n",
        "c = []\n",
        "\n",
        "for i in a:\n",
        "  if i!=\" \":\n",
        "    b+=i\n",
        "  else:\n",
        "    c+=[int(b)]\n",
        "    b=\"\"\n",
        "d=[]\n",
        "for i in c:\n",
        "  if i%2==0:\n",
        "    pass\n",
        "  else:\n",
        "    d+=[(int(i))]\n",
        "\n",
        "\n",
        "print(c)\n",
        "print(d)"
      ],
      "metadata": {
        "colab": {
          "base_uri": "https://localhost:8080/"
        },
        "id": "HAddv9Mn_BPd",
        "outputId": "acf27678-577f-424e-c72b-b15c30b85690"
      },
      "execution_count": null,
      "outputs": [
        {
          "output_type": "stream",
          "name": "stdout",
          "text": [
            "7 12 4 55 96 2 11 61 33 42\n",
            "[7, 12, 4, 55, 96, 2, 11, 61, 33, 42]\n",
            "[7, 55, 11, 61, 33]\n"
          ]
        }
      ]
    },
    {
      "cell_type": "code",
      "source": [
        "#task 10\n",
        "a_list = [0, 0, 1, 2, 3, 4, 4, 5, 6, 6, 6, 7, 8, 9, 4, 4]\n",
        "new_list = []\n",
        "\n",
        "for count in range(0,len(a_list)):\n",
        "  if a_list[count] not in new_list:\n",
        "    new_list.append(a_list[count])\n",
        "\n",
        "print(new_list)"
      ],
      "metadata": {
        "colab": {
          "base_uri": "https://localhost:8080/"
        },
        "id": "z4xEzg8ZSabU",
        "outputId": "e70e7e62-9c17-44bb-9197-ff8be7f61c2e"
      },
      "execution_count": null,
      "outputs": [
        {
          "output_type": "stream",
          "name": "stdout",
          "text": [
            "[0, 1, 2, 3, 4, 5, 6, 7, 8, 9]\n"
          ]
        }
      ]
    },
    {
      "cell_type": "code",
      "source": [
        "#Task 11\n",
        "List_one = [1, 4, 3, 2, 5]\n",
        "List_two = [8, 7, 6, 9]\n",
        "common = False\n",
        "for i in List_one:\n",
        "  if i in List_two:\n",
        "    common = True\n",
        "    break\n",
        "print(common)\n"
      ],
      "metadata": {
        "id": "YozTlxeYCi2V",
        "colab": {
          "base_uri": "https://localhost:8080/"
        },
        "outputId": "6a600c38-7af7-4d30-a1ea-bc28c891fac1"
      },
      "execution_count": null,
      "outputs": [
        {
          "output_type": "stream",
          "name": "stdout",
          "text": [
            "False\n"
          ]
        }
      ]
    }
  ]
}